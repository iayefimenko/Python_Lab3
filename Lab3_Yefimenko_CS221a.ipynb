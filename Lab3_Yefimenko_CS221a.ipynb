{
 "cells": [
  {
   "cell_type": "markdown",
   "id": "0ff3179d-44a4-4d18-a4db-a91401a97620",
   "metadata": {},
   "source": [
    "# Лабораторна робота №3\n",
    "## Злиття датафреймів, агрегування даних та візуалізація даних\n",
    "<br /><br/>\n",
    "### Виконав\n",
    "### студентка групи КН-221а\n",
    "### Єфіменко Анастасія Миколаївна\n",
    "### Перевірив\n",
    "### асистент кафедри\n",
    "### Звєрцев Герман Олександрович\n",
    "<br /><br/><br/><br/>\n",
    "## Мета роботи \n",
    "**Вивчення функцій Pandas для злиття, агрегування та візуалізації даних**"
   ]
  },
  {
   "cell_type": "markdown",
   "id": "68ac6a1d-761c-4102-b1dc-3e99163cf45d",
   "metadata": {},
   "source": [
    "## Хід роботи\n",
    "1. Завантажено файл з даними про споживання енергії “En_In.xls”, який являє собою перелік показників енергозабезпечення та виробництва відновлюваної електроенергії, і ввести їх в DataFrame.\n",
    "Майте на увазі, що це файл Excel, а не .csv. Також необхідно НЕ ВКЛЮЧАТИ інформацію з нижніх та верхніх рядків файлу даних. Перші два стовпці непотрібні, тому їх необхідно виключити із датафрейму, а також поміняти мітки стовпців так, щоб вони були такими: <br />\n",
    "**['Country', 'Energy Supply', 'Energy Supply per Capita', '%Renewable]** <br />\n",
    "2. Переведіть дані із стовпчику ‘Energy Supply’ в гДж (Примітка: в 1ПДж = 1000000 ГДж). Для всіх країн, у яких відсутні дані (наприклад, дані з \".....\"), переконайтеся, що це відображається як значення np.NaN. <br />\n",
    "3. Перейменуйте наступний список країн: <br />\n",
    "**\"Republic of Korea\": \"South Korea\",  <br />\n",
    "\"United States of America\": \"United States\",  <br />\n",
    "\"United Kingdom of Great Britain and Northern Ireland\": \"United Kingdom\",  <br />\n",
    "\"China, Hong Kong Special Administrative Region\": \"Hong Kong\"** <br />\n",
    "4. Існує також декілька країн, що мають в назві цифри та/або дужки. Обов’язково видаліть їх, напр. 'Bolivia (Plurinational State of)' повинна бути ‘Bolivia’, ‘Switzerland17’ повинна бути Switzerland’."
   ]
  },
  {
   "cell_type": "code",
   "execution_count": 1,
   "id": "27453ce0-5d3e-4cdf-9380-f139a550763c",
   "metadata": {},
   "outputs": [],
   "source": [
    "import pandas as pd\n",
    "import numpy as np"
   ]
  },
  {
   "cell_type": "code",
   "execution_count": 2,
   "id": "59aacac0-dc37-48bf-a3c0-aa42c4bc3dd4",
   "metadata": {},
   "outputs": [
    {
     "data": {
      "text/html": [
       "<div>\n",
       "<style scoped>\n",
       "    .dataframe tbody tr th:only-of-type {\n",
       "        vertical-align: middle;\n",
       "    }\n",
       "\n",
       "    .dataframe tbody tr th {\n",
       "        vertical-align: top;\n",
       "    }\n",
       "\n",
       "    .dataframe thead th {\n",
       "        text-align: right;\n",
       "    }\n",
       "</style>\n",
       "<table border=\"1\" class=\"dataframe\">\n",
       "  <thead>\n",
       "    <tr style=\"text-align: right;\">\n",
       "      <th></th>\n",
       "      <th>Country</th>\n",
       "      <th>Energy Supply</th>\n",
       "      <th>Energy Supply per Capita</th>\n",
       "      <th>% Renewable</th>\n",
       "    </tr>\n",
       "  </thead>\n",
       "  <tbody>\n",
       "    <tr>\n",
       "      <th>3</th>\n",
       "      <td>American Samoa</td>\n",
       "      <td>NaN</td>\n",
       "      <td>NaN</td>\n",
       "      <td>0.641</td>\n",
       "    </tr>\n",
       "    <tr>\n",
       "      <th>24</th>\n",
       "      <td>Bolivia</td>\n",
       "      <td>336000000.000</td>\n",
       "      <td>32.000</td>\n",
       "      <td>31.477</td>\n",
       "    </tr>\n",
       "    <tr>\n",
       "      <th>164</th>\n",
       "      <td>South Korea</td>\n",
       "      <td>11007000000.000</td>\n",
       "      <td>221.000</td>\n",
       "      <td>2.279</td>\n",
       "    </tr>\n",
       "  </tbody>\n",
       "</table>\n",
       "</div>"
      ],
      "text/plain": [
       "            Country   Energy Supply  Energy Supply per Capita  % Renewable\n",
       "3    American Samoa             NaN                       NaN        0.641\n",
       "24          Bolivia   336000000.000                    32.000       31.477\n",
       "164     South Korea 11007000000.000                   221.000        2.279"
      ]
     },
     "execution_count": 2,
     "metadata": {},
     "output_type": "execute_result"
    }
   ],
   "source": [
    "pd.set_option('display.float_format', '{:.3f}'.format)\n",
    "\n",
    "# Завдання 1: Завантаження даних та виправлення формату стовпців\n",
    "Energy = pd.read_excel('En_In.xls', skiprows=17, skipfooter=38)\n",
    "Energy = Energy.iloc[:, 2:]\n",
    "Energy.columns = ['Country', 'Energy Supply', 'Energy Supply per Capita', '% Renewable']\n",
    "\n",
    "# Завдання 2: Конвертація в гДж та обробка відсутніх значень\n",
    "Energy['Energy Supply'] = pd.to_numeric(Energy['Energy Supply'], errors='coerce') * 1000000\n",
    "Energy['Energy Supply per Capita'] = pd.to_numeric(Energy['Energy Supply per Capita'], errors='coerce')\n",
    "\n",
    "# Завдання 3: Перейменування країн\n",
    "country_mapping = {\n",
    "    \"Republic of Korea\": \"South Korea\",\n",
    "    \"United States of America\": \"United States\",\n",
    "    \"United Kingdom of Great Britain and Northern Ireland\": \"United Kingdom\",\n",
    "    \"China, Hong Kong Special Administrative Region\": \"Hong Kong\"\n",
    "}\n",
    "\n",
    "Energy['Country'].replace(country_mapping, inplace=True)\n",
    "\n",
    "# Завдання 4: Видалення цифр та дужок з назв країн\n",
    "Energy['Country'].replace(to_replace = r'\\d+', value = '', regex = True, inplace = True)\n",
    "Energy['Country'] = Energy['Country'].replace(to_replace = r'\\(.*\\)', value = '', regex = True).str.strip()\n",
    "\n",
    "# Вивід результатів для заданих країн\n",
    "Energy.loc[Energy['Country'].isin(['American Samoa', 'South Korea', 'Bolivia'])]"
   ]
  },
  {
   "cell_type": "markdown",
   "id": "5106c530-315f-4f82-991b-c8ad9f1fa65f",
   "metadata": {},
   "source": [
    "5. Далі, завантажено дані про ВВП з файлу „gpd.csv”, що містить дані Світового банку про ВВП країн від 1960 до 2015 року.\n",
    "Обов’язково НЕ включайте заголовок до датафрейму і перейменуйте\n",
    "наступний список країн:  <br />\n",
    "**\"Korea, Rep.\": \"South Korea\",  <br />\n",
    "\"Iran, Islamic Rep.\": \"Iran\",  <br />\n",
    "\"Hong Kong SAR, China\": \"Hong Kong\"**"
   ]
  },
  {
   "cell_type": "code",
   "execution_count": 3,
   "id": "70d29994-88ce-49a7-8aa7-cf32bbf45380",
   "metadata": {},
   "outputs": [
    {
     "data": {
      "text/html": [
       "<div>\n",
       "<style scoped>\n",
       "    .dataframe tbody tr th:only-of-type {\n",
       "        vertical-align: middle;\n",
       "    }\n",
       "\n",
       "    .dataframe tbody tr th {\n",
       "        vertical-align: top;\n",
       "    }\n",
       "\n",
       "    .dataframe thead th {\n",
       "        text-align: right;\n",
       "    }\n",
       "</style>\n",
       "<table border=\"1\" class=\"dataframe\">\n",
       "  <thead>\n",
       "    <tr style=\"text-align: right;\">\n",
       "      <th></th>\n",
       "      <th>Country Name</th>\n",
       "      <th>Country Code</th>\n",
       "      <th>Indicator Name</th>\n",
       "      <th>Indicator Code</th>\n",
       "      <th>2006</th>\n",
       "      <th>2007</th>\n",
       "      <th>2008</th>\n",
       "      <th>2009</th>\n",
       "      <th>2010</th>\n",
       "      <th>2011</th>\n",
       "      <th>2012</th>\n",
       "      <th>2013</th>\n",
       "      <th>2014</th>\n",
       "      <th>2015</th>\n",
       "    </tr>\n",
       "  </thead>\n",
       "  <tbody>\n",
       "    <tr>\n",
       "      <th>0</th>\n",
       "      <td>Aruba</td>\n",
       "      <td>ABW</td>\n",
       "      <td>GDP at market prices (constant 2010 US$)</td>\n",
       "      <td>NY.GDP.MKTP.KD</td>\n",
       "      <td>NaN</td>\n",
       "      <td>NaN</td>\n",
       "      <td>NaN</td>\n",
       "      <td>NaN</td>\n",
       "      <td>2467703910.615</td>\n",
       "      <td>NaN</td>\n",
       "      <td>NaN</td>\n",
       "      <td>NaN</td>\n",
       "      <td>NaN</td>\n",
       "      <td>NaN</td>\n",
       "    </tr>\n",
       "  </tbody>\n",
       "</table>\n",
       "</div>"
      ],
      "text/plain": [
       "  Country Name Country Code                            Indicator Name  \\\n",
       "0        Aruba          ABW  GDP at market prices (constant 2010 US$)   \n",
       "\n",
       "   Indicator Code  2006  2007  2008  2009           2010  2011  2012  2013  \\\n",
       "0  NY.GDP.MKTP.KD   NaN   NaN   NaN   NaN 2467703910.615   NaN   NaN   NaN   \n",
       "\n",
       "   2014  2015  \n",
       "0   NaN   NaN  "
      ]
     },
     "execution_count": 3,
     "metadata": {},
     "output_type": "execute_result"
    }
   ],
   "source": [
    "# Завдання 5: Завантаження даних про ВВП\n",
    "GDP = pd.read_csv('gpd.csv', skiprows=4)\n",
    "\n",
    "GDP['Country Name'] = GDP['Country Name'].replace({'Korea, Rep.': 'South Korea',\n",
    "                                         'Iran, Islamic Rep.': 'Iran',\n",
    "                                         'Hong Kong SAR, China': 'Hong Kong'})\n",
    "\n",
    "GDP = GDP[['Country Name', 'Country Code', 'Indicator Name', 'Indicator Code', '2006', '2007', '2008', '2009', '2010', '2011', '2012', '2013', '2014', '2015']]\n",
    "\n",
    "GDP.head(1)"
   ]
  },
  {
   "cell_type": "markdown",
   "id": "d0d757c8-8622-44b4-803e-c33d7e45dcfb",
   "metadata": {},
   "source": [
    "6. Завантажено дані з файлу „scimagojr.xlsx”, який класифікує країни на основі їхніх публікацій в журналах у галузі енергетичного машинобудування та енергетичних технологій. <br />\n",
    "7. Приєднайте три набори даних із завдань 1-6 до нового набору даних (використовуючи перетин назв країн). <br />\n",
    "<ul>\n",
    "    <li>Використовуйте лише дані про ВВП за останні 10 років (2006-2015 рр.) і лише 15 найкращих країн за рейтингом Scimagojr (Rank від 1 до 15)</li>\n",
    "    <li>Індексом цього DataFrame повинна бути назва країни, а стовпцями мають бути ['Rank', 'Documents', 'Citable documents', 'Citations', 'Self-citations', 'Citations per document', 'H index', 'Energy Supply', 'Energy Supply per Capita', '%Renewable', '2006', '2007', '2008', '2009', '2010', '2011', '2012', '2013', '2014', '2015'].</li>\n",
    "</ul>\n",
    "Ви повинні отримати DataFrame з 15 рядками та 20 стовпцями."
   ]
  },
  {
   "cell_type": "code",
   "execution_count": 4,
   "id": "9c170d6b-368c-48c8-ba7a-2127971f70fa",
   "metadata": {},
   "outputs": [
    {
     "data": {
      "text/html": [
       "<div>\n",
       "<style scoped>\n",
       "    .dataframe tbody tr th:only-of-type {\n",
       "        vertical-align: middle;\n",
       "    }\n",
       "\n",
       "    .dataframe tbody tr th {\n",
       "        vertical-align: top;\n",
       "    }\n",
       "\n",
       "    .dataframe thead th {\n",
       "        text-align: right;\n",
       "    }\n",
       "</style>\n",
       "<table border=\"1\" class=\"dataframe\">\n",
       "  <thead>\n",
       "    <tr style=\"text-align: right;\">\n",
       "      <th></th>\n",
       "      <th>Rank</th>\n",
       "      <th>Documents</th>\n",
       "      <th>Citable documents</th>\n",
       "      <th>Citations</th>\n",
       "      <th>Self-citations</th>\n",
       "      <th>Citations per document</th>\n",
       "      <th>H index</th>\n",
       "      <th>Energy Supply</th>\n",
       "      <th>Energy Supply per Capita</th>\n",
       "      <th>% Renewable</th>\n",
       "      <th>2006</th>\n",
       "      <th>2007</th>\n",
       "      <th>2008</th>\n",
       "      <th>2009</th>\n",
       "      <th>2010</th>\n",
       "      <th>2011</th>\n",
       "      <th>2012</th>\n",
       "      <th>2013</th>\n",
       "      <th>2014</th>\n",
       "      <th>2015</th>\n",
       "    </tr>\n",
       "    <tr>\n",
       "      <th>Country</th>\n",
       "      <th></th>\n",
       "      <th></th>\n",
       "      <th></th>\n",
       "      <th></th>\n",
       "      <th></th>\n",
       "      <th></th>\n",
       "      <th></th>\n",
       "      <th></th>\n",
       "      <th></th>\n",
       "      <th></th>\n",
       "      <th></th>\n",
       "      <th></th>\n",
       "      <th></th>\n",
       "      <th></th>\n",
       "      <th></th>\n",
       "      <th></th>\n",
       "      <th></th>\n",
       "      <th></th>\n",
       "      <th></th>\n",
       "      <th></th>\n",
       "    </tr>\n",
       "  </thead>\n",
       "  <tbody>\n",
       "    <tr>\n",
       "      <th>China</th>\n",
       "      <td>1.000</td>\n",
       "      <td>127050.000</td>\n",
       "      <td>126767.000</td>\n",
       "      <td>597237.000</td>\n",
       "      <td>411683.000</td>\n",
       "      <td>4.700</td>\n",
       "      <td>138.000</td>\n",
       "      <td>127191000000.000</td>\n",
       "      <td>93.000</td>\n",
       "      <td>19.755</td>\n",
       "      <td>3992331462570.890</td>\n",
       "      <td>4559041383517.930</td>\n",
       "      <td>4997775145605.960</td>\n",
       "      <td>5459247267275.140</td>\n",
       "      <td>6039658508485.590</td>\n",
       "      <td>6612490294273.650</td>\n",
       "      <td>7124977970399.610</td>\n",
       "      <td>7672447738017.420</td>\n",
       "      <td>8230120617793.520</td>\n",
       "      <td>8797998940421.279</td>\n",
       "    </tr>\n",
       "    <tr>\n",
       "      <th>United States</th>\n",
       "      <td>2.000</td>\n",
       "      <td>96661.000</td>\n",
       "      <td>94747.000</td>\n",
       "      <td>792274.000</td>\n",
       "      <td>265436.000</td>\n",
       "      <td>8.200</td>\n",
       "      <td>230.000</td>\n",
       "      <td>NaN</td>\n",
       "      <td>NaN</td>\n",
       "      <td>NaN</td>\n",
       "      <td>14792303791800.000</td>\n",
       "      <td>15055395304800.000</td>\n",
       "      <td>15011490541400.000</td>\n",
       "      <td>14594842181900.000</td>\n",
       "      <td>14964372000000.000</td>\n",
       "      <td>15204019634600.000</td>\n",
       "      <td>15542161722300.000</td>\n",
       "      <td>15773666098800.000</td>\n",
       "      <td>16156618476000.000</td>\n",
       "      <td>16548573278300.000</td>\n",
       "    </tr>\n",
       "    <tr>\n",
       "      <th>Japan</th>\n",
       "      <td>3.000</td>\n",
       "      <td>30504.000</td>\n",
       "      <td>30287.000</td>\n",
       "      <td>223024.000</td>\n",
       "      <td>61554.000</td>\n",
       "      <td>7.310</td>\n",
       "      <td>134.000</td>\n",
       "      <td>18984000000.000</td>\n",
       "      <td>149.000</td>\n",
       "      <td>10.233</td>\n",
       "      <td>5496541517363.310</td>\n",
       "      <td>5617035943770.730</td>\n",
       "      <td>5558526873313.820</td>\n",
       "      <td>5251308399909.320</td>\n",
       "      <td>5498717815809.770</td>\n",
       "      <td>5473738114222.050</td>\n",
       "      <td>5569101602926.180</td>\n",
       "      <td>5644658523313.420</td>\n",
       "      <td>5642884448582.190</td>\n",
       "      <td>5669563143140.970</td>\n",
       "    </tr>\n",
       "  </tbody>\n",
       "</table>\n",
       "</div>"
      ],
      "text/plain": [
       "               Rank  Documents  Citable documents  Citations  Self-citations  \\\n",
       "Country                                                                        \n",
       "China         1.000 127050.000         126767.000 597237.000      411683.000   \n",
       "United States 2.000  96661.000          94747.000 792274.000      265436.000   \n",
       "Japan         3.000  30504.000          30287.000 223024.000       61554.000   \n",
       "\n",
       "               Citations per document  H index    Energy Supply  \\\n",
       "Country                                                           \n",
       "China                           4.700  138.000 127191000000.000   \n",
       "United States                   8.200  230.000              NaN   \n",
       "Japan                           7.310  134.000  18984000000.000   \n",
       "\n",
       "               Energy Supply per Capita  % Renewable               2006  \\\n",
       "Country                                                                   \n",
       "China                            93.000       19.755  3992331462570.890   \n",
       "United States                       NaN          NaN 14792303791800.000   \n",
       "Japan                           149.000       10.233  5496541517363.310   \n",
       "\n",
       "                            2007               2008               2009  \\\n",
       "Country                                                                  \n",
       "China          4559041383517.930  4997775145605.960  5459247267275.140   \n",
       "United States 15055395304800.000 15011490541400.000 14594842181900.000   \n",
       "Japan          5617035943770.730  5558526873313.820  5251308399909.320   \n",
       "\n",
       "                            2010               2011               2012  \\\n",
       "Country                                                                  \n",
       "China          6039658508485.590  6612490294273.650  7124977970399.610   \n",
       "United States 14964372000000.000 15204019634600.000 15542161722300.000   \n",
       "Japan          5498717815809.770  5473738114222.050  5569101602926.180   \n",
       "\n",
       "                            2013               2014               2015  \n",
       "Country                                                                 \n",
       "China          7672447738017.420  8230120617793.520  8797998940421.279  \n",
       "United States 15773666098800.000 16156618476000.000 16548573278300.000  \n",
       "Japan          5644658523313.420  5642884448582.190  5669563143140.970  "
      ]
     },
     "execution_count": 4,
     "metadata": {},
     "output_type": "execute_result"
    }
   ],
   "source": [
    "# Завдання 6: Завантаження даних з файлу \"scimagojr.xlsx\"\n",
    "scimagojr = pd.read_excel('scimagojr.xlsx')\n",
    "\n",
    "# Завдання 7: Приєднання три набори даних\n",
    "merged_df = pd.merge(scimagojr, Energy, how='outer', left_on='Country', right_on='Country')\n",
    "merged_df = pd.merge(merged_df, GDP, how='inner', left_on='Country', right_on='Country Name')\n",
    "\n",
    "selected_columns = ['Country', 'Rank', 'Documents', 'Citable documents', 'Citations', 'Self-citations',\n",
    "                     'Citations per document', 'H index', 'Energy Supply', 'Energy Supply per Capita', '% Renewable',\n",
    "                     '2006', '2007', '2008', '2009', '2010', '2011', '2012', '2013', '2014', '2015']\n",
    "\n",
    "Result = merged_df[selected_columns].set_index('Country').head(15)\n",
    "\n",
    "Result.head(3)"
   ]
  },
  {
   "cell_type": "code",
   "execution_count": 5,
   "id": "5153bd1a-c2ca-41d7-bc29-d8365341a5cb",
   "metadata": {},
   "outputs": [
    {
     "data": {
      "text/plain": [
       "(15, 20)"
      ]
     },
     "execution_count": 5,
     "metadata": {},
     "output_type": "execute_result"
    }
   ],
   "source": [
    "Result.shape"
   ]
  },
  {
   "cell_type": "markdown",
   "id": "4d5f1fb7-7e30-47b9-8300-b1fb33f66d0d",
   "metadata": {},
   "source": [
    "8. Створіть функцію, щоб визначити середній ВВП країн за останні 10 років. <br />\n",
    "Ця функція повинна повертати об’єкт Series з 15 країнами та їх середній ВВП, відсортований за спаданням."
   ]
  },
  {
   "cell_type": "code",
   "execution_count": 6,
   "id": "2a22138c-2f56-43ee-a377-7c87e1d338f6",
   "metadata": {},
   "outputs": [
    {
     "data": {
      "text/plain": [
       "Country\n",
       "United States        15364344302990.000\n",
       "China                 6348608932836.100\n",
       "Japan                 5542207638235.176\n",
       "Germany               3493025339072.848\n",
       "France                2681724635761.589\n",
       "United Kingdom        2487906661418.417\n",
       "Brazil                2189794143774.905\n",
       "Italy                 2120175089933.776\n",
       "India                 1769297396603.860\n",
       "Canada                1660647466307.512\n",
       "Russian Federation    1565459478480.661\n",
       "Spain                 1418078278145.694\n",
       "Australia             1164042729991.427\n",
       "South Korea           1106714508244.852\n",
       "Iran                   444155754051.095\n",
       "Name: avgGDP, dtype: float64"
      ]
     },
     "execution_count": 6,
     "metadata": {},
     "output_type": "execute_result"
    }
   ],
   "source": [
    "def task_eight():\n",
    "    avg_gdp = Result[['2006', '2007', '2008', '2009', '2010', '2011', '2012', '2013', '2014', '2015']].mean(axis=1)\n",
    "\n",
    "    avg_gdp_series = pd.Series(avg_gdp, name='avgGDP')\n",
    "    avg_gdp_series = avg_gdp_series.sort_values(ascending=False)\n",
    "\n",
    "    return avg_gdp_series\n",
    "\n",
    "task_eight()"
   ]
  },
  {
   "cell_type": "markdown",
   "id": "11e6c4bc-9fec-499f-a666-7bd17514156d",
   "metadata": {},
   "source": [
    "9. Створіть функцію, щоб визначити, наскільки змінився ВВП за останні 10 років для країни з 5-м середнім ВВП. <br />\n",
    "Ця функція повинна повертати кортеж із назвою країни та значенням, на яке змінився ВВП."
   ]
  },
  {
   "cell_type": "code",
   "execution_count": 7,
   "id": "d7a4bc80-577c-4a32-9375-ed2c2a7728a2",
   "metadata": {},
   "outputs": [
    {
     "data": {
      "text/plain": [
       "('France', 153345695364.24023)"
      ]
     },
     "execution_count": 7,
     "metadata": {},
     "output_type": "execute_result"
    }
   ],
   "source": [
    "def task_nine():\n",
    "    avg_gdp = Result[['2006', '2007', '2008', '2009', '2010', '2011', '2012', '2013', '2014', '2015']].mean(axis=1)\n",
    "    avg_gdp = avg_gdp.sort_values(ascending=False)\n",
    "\n",
    "    country_with_5th_avg_gdp = avg_gdp.index[4]\n",
    "    \n",
    "    gdp_change = Result.loc[country_with_5th_avg_gdp, '2015'] - Result.loc[country_with_5th_avg_gdp, '2006']\n",
    "\n",
    "    return country_with_5th_avg_gdp, gdp_change\n",
    "\n",
    "task_nine()"
   ]
  },
  {
   "cell_type": "markdown",
   "id": "8e8c553e-10d0-40a1-a538-63ce901d641c",
   "metadata": {},
   "source": [
    "10. Створіть функцію, щоб визначити, в якій країні встановлено максимум поновлюваних джерел енергії (% Renewable) та який саме відсоток. <br />\n",
    "Ця функція повинна повертати кортеж із назвою країни та відсотком."
   ]
  },
  {
   "cell_type": "code",
   "execution_count": 8,
   "id": "a9ffd7da-95e3-469d-8c61-c0f5eddffdba",
   "metadata": {},
   "outputs": [
    {
     "data": {
      "text/plain": [
       "('Brazil', 69.64803)"
      ]
     },
     "execution_count": 8,
     "metadata": {},
     "output_type": "execute_result"
    }
   ],
   "source": [
    "def task_ten():\n",
    "    max_renewable_country = Result['% Renewable'].idxmax()\n",
    "    \n",
    "    max_renewable_percentage = Result.loc[max_renewable_country, '% Renewable']\n",
    "    \n",
    "    return max_renewable_country, max_renewable_percentage\n",
    "\n",
    "task_ten()"
   ]
  },
  {
   "cell_type": "markdown",
   "id": "62b4223c-6c76-4aff-bbe5-cc1be653d403",
   "metadata": {},
   "source": [
    "11. Створіть стовпець, в якому оцінюється чисельність населення. Для пошуку оцінки використовуйте значення енергопостачання (Energy Supply)\n",
    "та енергопостачання на душу населення (Energy Supply per capita). Яка країна є шостою за цією оцінкою? <br />\n",
    "Ця функція повинна повертати кортеж із назвою країни та населенням"
   ]
  },
  {
   "cell_type": "code",
   "execution_count": 9,
   "id": "01e883a8-3980-4951-97c0-469c772f0830",
   "metadata": {},
   "outputs": [
    {
     "data": {
      "text/plain": [
       "('Japan', 127409395.97315437)"
      ]
     },
     "execution_count": 9,
     "metadata": {},
     "output_type": "execute_result"
    }
   ],
   "source": [
    "def task_eleven():\n",
    "    Result['Population Estimate'] = Result['Energy Supply'] / Result['Energy Supply per Capita']\n",
    "    \n",
    "    sixth_population_country = Result.sort_values(by='Population Estimate', ascending=False).index[4]\n",
    "    sixth_population_estimate = Result.loc[sixth_population_country, 'Population Estimate']\n",
    "\n",
    "    return sixth_population_country, sixth_population_estimate\n",
    "\n",
    "task_eleven()"
   ]
  },
  {
   "cell_type": "markdown",
   "id": "c592e687-3946-4e1e-a628-472d68f88e23",
   "metadata": {},
   "source": [
    "12. Створіть стовпець, в якому оцінюється кількість цитованих документів на одну особу. Який взаємозв'язок між кількістю цитованих документів на\n",
    "душу населення та енергозабезпеченням на душу населення? Використовуйте метод .corr () (кореляція Пірсона). <br />\n",
    "Ця функція повинна повертати одне число"
   ]
  },
  {
   "cell_type": "code",
   "execution_count": 10,
   "id": "9b8b65ea-81b2-47fa-a432-c1d0fa6272eb",
   "metadata": {},
   "outputs": [
    {
     "data": {
      "text/plain": [
       "0.7485600772321211"
      ]
     },
     "execution_count": 10,
     "metadata": {},
     "output_type": "execute_result"
    }
   ],
   "source": [
    "def task_twelve():\n",
    "    Result['Citations per Capita'] = Result['Citations'] / Result['Population Estimate']\n",
    "    \n",
    "    correlation_coefficient = Result['Citations per Capita'].corr(Result['Energy Supply per Capita'])\n",
    "    \n",
    "    return correlation_coefficient\n",
    "\n",
    "task_twelve()"
   ]
  },
  {
   "cell_type": "markdown",
   "id": "f8b69fcf-8c22-414d-8641-6d37a27a1318",
   "metadata": {},
   "source": [
    "13. Створіть новий стовпчик в який занесіть 1, якщо значення % відновлюваної енергії (% Renewable) країни дорівнює або вище медіани для\n",
    "всіх країн, і 0, якщо значення (% Renewable) нижче медіани. <br />\n",
    "Ця функція повинна повертати Series, індексом якого є назва країни, відсортована у порядку зростання Rank"
   ]
  },
  {
   "cell_type": "code",
   "execution_count": 11,
   "id": "c8c2534e-4812-429c-baf1-4fbf2fbaa10d",
   "metadata": {},
   "outputs": [
    {
     "data": {
      "text/plain": [
       "Country\n",
       "China                 1\n",
       "United States         0\n",
       "Japan                 0\n",
       "United Kingdom        0\n",
       "Russian Federation    1\n",
       "Canada                1\n",
       "Germany               1\n",
       "India                 0\n",
       "France                0\n",
       "South Korea           0\n",
       "Italy                 1\n",
       "Spain                 1\n",
       "Iran                  0\n",
       "Australia             0\n",
       "Brazil                1\n",
       "dtype: int32"
      ]
     },
     "execution_count": 11,
     "metadata": {},
     "output_type": "execute_result"
    }
   ],
   "source": [
    "def task_thirteen():\n",
    "    renewable_median = Result['% Renewable'].median()\n",
    "\n",
    "    Result['High_Renewable'] = (Result['% Renewable'] >= renewable_median).astype('int32')\n",
    "\n",
    "    output_series = Result.sort_values(by='Rank')['High_Renewable']\n",
    "    output_series.name = None\n",
    "\n",
    "    return output_series\n",
    "\n",
    "task_thirteen()"
   ]
  },
  {
   "cell_type": "markdown",
   "id": "ab26fd50-44ff-4625-8703-70f378489c6d",
   "metadata": {},
   "source": [
    "14. Використайте наступний словник, щоб згрупувати країни за континентами, потім створіть DataFrame, який відображає розмір вибірки\n",
    "(кількість країн на кожному континенті), а також суму, середнє та стандартне відхилення для оцінки кількості населення для кожної країни. <br />\n",
    "**ContinentDict = {'China':'Asia', <br />\n",
    "'United States':'North America', <br />\n",
    "'Japan':'Asia', <br />\n",
    "'United Kingdom':'Europe', <br />\n",
    "'Russian Federation':'Europe', <br />\n",
    "'Canada':'North America', <br />\n",
    "'Germany':'Europe', <br />\n",
    "'India':'Asia', <br />\n",
    "'France':'Europe', <br />\n",
    "'South Korea':'Asia', <br />\n",
    "'Italy':'Europe', <br />\n",
    "'Spain':'Europe', <br />\n",
    "'Iran':'Asia', <br />\n",
    "'Australia':'Australia', <br />\n",
    "'Brazil':'South America'} <br />**\n",
    "\n",
    "Ця функція повинна повертати DataFrame з індексом, що має ім’я Continent\n",
    "['Asia', 'Australia', 'Europe', 'North America', 'South America'] та стовпцями\n",
    "['size', 'sum', 'mean', 'std ']."
   ]
  },
  {
   "cell_type": "code",
   "execution_count": 12,
   "id": "a955c870-6243-4bf2-b204-0b299047af23",
   "metadata": {},
   "outputs": [
    {
     "data": {
      "text/html": [
       "<div>\n",
       "<style scoped>\n",
       "    .dataframe tbody tr th:only-of-type {\n",
       "        vertical-align: middle;\n",
       "    }\n",
       "\n",
       "    .dataframe tbody tr th {\n",
       "        vertical-align: top;\n",
       "    }\n",
       "\n",
       "    .dataframe thead th {\n",
       "        text-align: right;\n",
       "    }\n",
       "</style>\n",
       "<table border=\"1\" class=\"dataframe\">\n",
       "  <thead>\n",
       "    <tr style=\"text-align: right;\">\n",
       "      <th></th>\n",
       "      <th>size</th>\n",
       "      <th>sum</th>\n",
       "      <th>mean</th>\n",
       "      <th>std</th>\n",
       "    </tr>\n",
       "    <tr>\n",
       "      <th>Continent</th>\n",
       "      <th></th>\n",
       "      <th></th>\n",
       "      <th></th>\n",
       "      <th></th>\n",
       "    </tr>\n",
       "  </thead>\n",
       "  <tbody>\n",
       "    <tr>\n",
       "      <th>Asia</th>\n",
       "      <td>5</td>\n",
       "      <td>2898666386.611</td>\n",
       "      <td>579733277.322</td>\n",
       "      <td>679097888.366</td>\n",
       "    </tr>\n",
       "    <tr>\n",
       "      <th>Australia</th>\n",
       "      <td>1</td>\n",
       "      <td>23316017.316</td>\n",
       "      <td>23316017.316</td>\n",
       "      <td>NaN</td>\n",
       "    </tr>\n",
       "    <tr>\n",
       "      <th>Europe</th>\n",
       "      <td>6</td>\n",
       "      <td>394058699.474</td>\n",
       "      <td>78811739.895</td>\n",
       "      <td>38132276.153</td>\n",
       "    </tr>\n",
       "    <tr>\n",
       "      <th>North America</th>\n",
       "      <td>2</td>\n",
       "      <td>35239864.865</td>\n",
       "      <td>35239864.865</td>\n",
       "      <td>NaN</td>\n",
       "    </tr>\n",
       "    <tr>\n",
       "      <th>South America</th>\n",
       "      <td>1</td>\n",
       "      <td>205915254.237</td>\n",
       "      <td>205915254.237</td>\n",
       "      <td>NaN</td>\n",
       "    </tr>\n",
       "  </tbody>\n",
       "</table>\n",
       "</div>"
      ],
      "text/plain": [
       "               size            sum          mean           std\n",
       "Continent                                                     \n",
       "Asia              5 2898666386.611 579733277.322 679097888.366\n",
       "Australia         1   23316017.316  23316017.316           NaN\n",
       "Europe            6  394058699.474  78811739.895  38132276.153\n",
       "North America     2   35239864.865  35239864.865           NaN\n",
       "South America     1  205915254.237 205915254.237           NaN"
      ]
     },
     "execution_count": 12,
     "metadata": {},
     "output_type": "execute_result"
    }
   ],
   "source": [
    "def task_fourteen():\n",
    "    ContinentDict = {'China':'Asia', \n",
    "                     'United States':'North America', \n",
    "                     'Japan':'Asia', \n",
    "                     'United Kingdom':'Europe',\n",
    "                     'Russian Federation':'Europe', \n",
    "                     'Canada':'North America', \n",
    "                     'Germany':'Europe', \n",
    "                     'India':'Asia',\n",
    "                     'France':'Europe', \n",
    "                     'South Korea':'Asia', \n",
    "                     'Italy':'Europe', \n",
    "                     'Spain':'Europe', \n",
    "                     'Iran':'Asia',\n",
    "                     'Australia':'Australia', \n",
    "                     'Brazil':'South America'}\n",
    "\n",
    "    Result['Continent'] = Result.index.map(ContinentDict)\n",
    "    grouped_df = Result.groupby('Continent')['Population Estimate'].agg(['size', 'sum', 'mean', 'std'])\n",
    "    grouped_df.index.name = 'Continent'\n",
    "    grouped_df.columns = ['size', 'sum', 'mean', 'std']\n",
    "    return grouped_df\n",
    "\n",
    "task_fourteen()"
   ]
  },
  {
   "cell_type": "markdown",
   "id": "8e3f593e-bd00-41f0-9ef8-59ec7bf03a00",
   "metadata": {},
   "source": [
    "15. Створіть бульбашкову діаграму, що відображає залежність % поновлюваних джерел від рейтингу країни (% Renewable vs. Rank). Розмір бульбашки від\n",
    "повідає ВВП країн 2015 року, а колір відповідає континенту."
   ]
  },
  {
   "cell_type": "code",
   "execution_count": 13,
   "id": "81b7ce15-9bce-4513-9932-4ad4cc4ceb6f",
   "metadata": {},
   "outputs": [
    {
     "data": {
      "image/png": "[encoded data removed]",
      "text/plain": [
       "<Figure size 1200x400 with 1 Axes>"
      ]
     },
     "metadata": {},
     "output_type": "display_data"
    }
   ],
   "source": [
    "import matplotlib.pyplot as plt\n",
    "import seaborn as sns\n",
    "\n",
    "sns.set()\n",
    "\n",
    "continent_colors = {\n",
    "    'Asia': 'red',\n",
    "    'Australia': 'yellow',\n",
    "    'Europe': 'green',\n",
    "    'North America': 'blue',\n",
    "    'South America': 'orange'\n",
    "}\n",
    "\n",
    "plt.figure(figsize=(12, 4))\n",
    "\n",
    "bubble_chart = sns.scatterplot(x='Rank', y='% Renewable', size='2015', hue='Continent', data=Result, sizes=(500, 10000),\n",
    "                               alpha=0.8, palette=continent_colors, edgecolor=None, linewidth=0)\n",
    "bubble_chart.legend().set_visible(False)\n",
    "bubble_chart.grid(False)\n",
    "\n",
    "for index, row in Result.iterrows():\n",
    "    bubble_chart.annotate(index, xy=(row['Rank'], row['% Renewable']), xytext=(0, 0),\n",
    "                          textcoords='offset points', ha='center', va='center', fontsize=10, color='black')\n",
    "\n",
    "plt.title('Bubble Chart')\n",
    "plt.xlabel('Rank')\n",
    "plt.ylabel('% Renewable')\n",
    "\n",
    "plt.show()"
   ]
  },
  {
   "cell_type": "markdown",
   "id": "d2e8e671-ee40-4fb1-bbb6-4d2735052fe1",
   "metadata": {},
   "source": [
    "## <a href=\"https://github.com/iayefimenko/Python_Lab3\">Посилання</a> на створений блокнот Jupyter на GitHub"
   ]
  },
  {
   "cell_type": "markdown",
   "id": "1e9bbd04-038b-4990-9d86-03653a8dc27d",
   "metadata": {},
   "source": [
    "## Висновки\n",
    "**Під час виконання лабораторної роботи №3 було глибше розлянуто бібліотеку мови Python Pandas та особливості її використання \n",
    "для злиття, агрегування та візуалізації даних. Також було здобуто новий досвід роботи в середовищі Jupyter Notebook та \n",
    "покращено навички роботи з блокнотом. Отримані знання в ході виконання завдань лабораторної роботи №3 стануть в нагоді \n",
    "при подальшому програмуванні на Python.**"
   ]
  }
 ],
 "metadata": {
  "kernelspec": {
   "display_name": "Python 3 (ipykernel)",
   "language": "python",
   "name": "python3"
  },
  "language_info": {
   "codemirror_mode": {
    "name": "ipython",
    "version": 3
   },
   "file_extension": ".py",
   "mimetype": "text/x-python",
   "name": "python",
   "nbconvert_exporter": "python",
   "pygments_lexer": "ipython3",
   "version": "3.8.10"
  }
 },
 "nbformat": 4,
 "nbformat_minor": 5
}
